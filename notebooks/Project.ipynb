{
 "cells": [
  {
   "cell_type": "markdown",
   "metadata": {},
   "source": [
    "# Taxifare"
   ]
  },
  {
   "cell_type": "code",
   "execution_count": 1,
   "metadata": {},
   "outputs": [],
   "source": [
    "%load_ext autoreload\n",
    "%autoreload 2"
   ]
  },
  {
   "cell_type": "code",
   "execution_count": 2,
   "metadata": {},
   "outputs": [
    {
     "name": "stderr",
     "output_type": "stream",
     "text": [
      "/home/lewagon/.pyenv/versions/3.8.5/envs/lewagon/lib/python3.8/site-packages/patsy/constraint.py:13: DeprecationWarning: Using or importing the ABCs from 'collections' instead of from 'collections.abc' is deprecated since Python 3.3, and in 3.9 it will stop working\n",
      "  from collections import Mapping\n",
      "/home/lewagon/.pyenv/versions/3.8.5/envs/lewagon/lib/python3.8/site-packages/aiohttp/connector.py:964: DeprecationWarning: The loop argument is deprecated since Python 3.8, and scheduled for removal in Python 3.10.\n",
      "  hosts = await asyncio.shield(self._resolve_host(\n"
     ]
    },
    {
     "name": "stdout",
     "output_type": "stream",
     "text": [
      "\u001b[32mLoading trainer...\u001b[0m\n",
      "\u001b[32m\n",
      "Trainer parameters:\n",
      "\u001b[0m{'data': {'nrows': 10}, 'trainer': {'estimator': 'randomforest', 'hyperparams': {'n_estimators': 100, 'max_depth': 10, 'n_jobs': -1}, 'pipeline': {'distance': {'type': 'haversine'}, 'time': {'zone': 'America/New_York'}}}}\n",
      "\u001b[32m\n",
      "Fetching 10 lines from s3://wagon-public-datasets/taxi-fare-train.csv data 🚀\u001b[0m\n"
     ]
    },
    {
     "name": "stderr",
     "output_type": "stream",
     "text": [
      "/home/lewagon/.pyenv/versions/3.8.5/envs/lewagon/lib/python3.8/site-packages/aiohttp/locks.py:21: DeprecationWarning: The loop argument is deprecated since Python 3.8, and scheduled for removal in Python 3.10.\n",
      "  self._event = asyncio.Event(loop=loop)\n"
     ]
    },
    {
     "name": "stdout",
     "output_type": "stream",
     "text": [
      "\u001b[32mData saved to /home/lewagon/code/gmanchon/wagon-data-template/data/data.csv 👍\u001b[0m\n",
      "\u001b[32m\n",
      "Dataset:\n",
      "\u001b[0m   Unnamed: 0                            key  fare_amount  \\\n",
      "0           0    2009-06-15 17:26:21.0000001          4.5   \n",
      "1           1    2010-01-05 16:52:16.0000002         16.9   \n",
      "2           2   2011-08-18 00:35:00.00000049          5.7   \n",
      "3           3    2012-04-21 04:30:42.0000001          7.7   \n",
      "4           4  2010-03-09 07:51:00.000000135          5.3   \n",
      "5           5    2011-01-06 09:50:45.0000002         12.1   \n",
      "6           6    2012-11-20 20:35:00.0000001          7.5   \n",
      "7           7   2012-01-04 17:22:00.00000081         16.5   \n",
      "8           8  2012-12-03 13:10:00.000000125          9.0   \n",
      "9           9   2009-09-02 01:11:00.00000083          8.9   \n",
      "\n",
      "           pickup_datetime  pickup_longitude  pickup_latitude  \\\n",
      "0  2009-06-15 17:26:21 UTC        -73.844311        40.721319   \n",
      "1  2010-01-05 16:52:16 UTC        -74.016048        40.711303   \n",
      "2  2011-08-18 00:35:00 UTC        -73.982738        40.761270   \n",
      "3  2012-04-21 04:30:42 UTC        -73.987130        40.733143   \n",
      "4  2010-03-09 07:51:00 UTC        -73.968095        40.768008   \n",
      "5  2011-01-06 09:50:45 UTC        -74.000964        40.731630   \n",
      "6  2012-11-20 20:35:00 UTC        -73.980002        40.751662   \n",
      "7  2012-01-04 17:22:00 UTC        -73.951300        40.774138   \n",
      "8  2012-12-03 13:10:00 UTC        -74.006462        40.726713   \n",
      "9  2009-09-02 01:11:00 UTC        -73.980658        40.733873   \n",
      "\n",
      "   dropoff_longitude  dropoff_latitude  passenger_count  \n",
      "0         -73.841610         40.712278                1  \n",
      "1         -73.979268         40.782004                1  \n",
      "2         -73.991242         40.750562                2  \n",
      "3         -73.991567         40.758092                1  \n",
      "4         -73.956655         40.783762                1  \n",
      "5         -73.972892         40.758233                1  \n",
      "6         -73.973802         40.764842                1  \n",
      "7         -73.990095         40.751048                1  \n",
      "8         -73.993078         40.731628                1  \n",
      "9         -73.991540         40.758138                2  \n",
      "\u001b[32m\n",
      "Preprocessing model...\u001b[0m\n",
      "\u001b[32m\n",
      "Model hyperparameters:\n",
      "\u001b[0m{'n_estimators': 100, 'max_depth': 10, 'n_jobs': -1}\n",
      "\u001b[32m\n",
      "Pipeline input:\n",
      "\u001b[0m   pickup_latitude  pickup_longitude  dropoff_latitude  dropoff_longitude  \\\n",
      "1        40.711303        -74.016048         40.782004         -73.979268   \n",
      "5        40.731630        -74.000964         40.758233         -73.972892   \n",
      "0        40.721319        -73.844311         40.712278         -73.841610   \n",
      "7        40.774138        -73.951300         40.751048         -73.990095   \n",
      "2        40.761270        -73.982738         40.750562         -73.991242   \n",
      "9        40.733873        -73.980658         40.758138         -73.991540   \n",
      "4        40.768008        -73.968095         40.783762         -73.956655   \n",
      "3        40.733143        -73.987130         40.758092         -73.991567   \n",
      "6        40.751662        -73.980002         40.764842         -73.973802   \n",
      "\n",
      "           pickup_datetime  \n",
      "1  2010-01-05 16:52:16 UTC  \n",
      "5  2011-01-06 09:50:45 UTC  \n",
      "0  2009-06-15 17:26:21 UTC  \n",
      "7  2012-01-04 17:22:00 UTC  \n",
      "2  2011-08-18 00:35:00 UTC  \n",
      "9  2009-09-02 01:11:00 UTC  \n",
      "4  2010-03-09 07:51:00 UTC  \n",
      "3  2012-04-21 04:30:42 UTC  \n",
      "6  2012-11-20 20:35:00 UTC  \n",
      "\u001b[32m\n",
      "Distance type: haversine\u001b[0m\n",
      "\u001b[32m\n",
      "Pipeline step \"preprocessor\", output:\n",
      "\u001b[0m[[ 2.53239278 -1.70873446 -1.6165637  -0.25342256 -0.93043704  0.7840872\n",
      "   0.          1.          0.          0.          0.          0.\n",
      "   0.          0.          1.          0.          0.          0.\n",
      "   0.          0.          1.          0.          0.          0.\n",
      "   0.          0.          0.          0.          1.          0.\n",
      "   0.        ]\n",
      " [ 0.44275096 -1.27211191 -0.31918211 -0.3819584  -0.65964604  0.\n",
      "   0.          0.          0.          1.          0.          0.\n",
      "   0.          1.          0.          0.          0.          0.\n",
      "   0.          0.          1.          0.          0.          0.\n",
      "   0.          0.          0.          0.          0.          1.\n",
      "   0.        ]\n",
      " [-0.79254307  0.          0.72947926  1.25838895  2.16433004  2.89954193\n",
      "   1.          0.          0.          0.          0.          0.\n",
      "   0.          0.          0.          0.          1.          0.\n",
      "   0.          0.          0.          0.          0.          1.\n",
      "   0.          0.          0.          1.          0.          0.\n",
      "   0.        ]\n",
      " [ 0.60775941  2.08062575  1.14280671  0.74657744  0.82135926 -0.46824765\n",
      "   0.          0.          1.          0.          0.          0.\n",
      "   0.          0.          0.          1.          0.          0.\n",
      "   0.          0.          1.          0.          0.          0.\n",
      "   0.          0.          0.          0.          0.          0.\n",
      "   1.        ]\n",
      " [-0.63176684  0.5618231   0.7785231   0.88677893  0.21234153 -0.49686249\n",
      "   0.          0.          1.          0.          0.          0.\n",
      "   0.          0.          0.          0.          0.          0.\n",
      "   1.          0.          0.          0.          0.          0.\n",
      "   1.          0.          0.          0.          0.          1.\n",
      "   0.        ]\n",
      " [ 0.02256692  0.68105696 -0.25039718  0.09491309 -0.39681118 -0.21396958\n",
      "   0.          1.          0.          0.          0.          0.\n",
      "   0.          0.          0.          0.          0.          0.\n",
      "   0.          1.          0.          0.          0.          0.\n",
      "   0.          1.          0.          1.          0.          0.\n",
      "   0.        ]\n",
      " [-0.35856495 -0.4381769   0.         -0.31077054  0.50153822  1.10743622\n",
      "   0.          1.          0.          0.          0.          0.\n",
      "   1.          0.          0.          0.          0.          0.\n",
      "   0.          0.          0.          1.          0.          0.\n",
      "   0.          0.          0.          0.          1.          0.\n",
      "   0.        ]\n",
      " [ 0.          0.35790213 -0.27052074  0.         -0.49846178 -0.2159128\n",
      "   0.          0.          0.          0.          1.          1.\n",
      "   0.          0.          0.          0.          0.          0.\n",
      "   0.          0.          0.          0.          1.          0.\n",
      "   0.          0.          0.          0.          0.          0.\n",
      "   1.        ]\n",
      " [-0.55724904 -0.17544124  0.07572816 -0.23796461  0.          0.215998\n",
      "   0.          1.          0.          0.          0.          0.\n",
      "   0.          0.          0.          0.          0.          1.\n",
      "   0.          0.          0.          0.          0.          0.\n",
      "   0.          0.          1.          0.          0.          0.\n",
      "   1.        ]]\n",
      "\u001b[32m\n",
      "Training model...\u001b[0m\n",
      "\u001b[32m\n",
      "Model hyperparameters:\n",
      "\u001b[0m{'n_estimators': 100, 'max_depth': 10, 'n_jobs': -1}\n",
      "\u001b[32m\n",
      "Distance type: haversine\u001b[0m\n",
      "\u001b[32m\n",
      "Distance type: haversine\u001b[0m\n",
      "\u001b[32mModel trained, rmse: 1.4039999999999955 👍\u001b[0m\n"
     ]
    },
    {
     "data": {
      "text/plain": [
       "<project.app.App at 0x7f0924281220>"
      ]
     },
     "execution_count": 2,
     "metadata": {},
     "output_type": "execute_result"
    }
   ],
   "source": [
    "from project.app import App\n",
    "\n",
    "n_rows = 1_000\n",
    "\n",
    "params = dict(\n",
    "    data=dict(\n",
    "        nrows=10),\n",
    "    trainer=dict(\n",
    "        estimator='randomforest',\n",
    "        hyperparams=dict(\n",
    "            n_estimators=100,\n",
    "            max_depth=10,\n",
    "            n_jobs=-1),\n",
    "        pipeline=dict(\n",
    "            distance=dict(\n",
    "                type=\"haversine\"),\n",
    "            time=dict(\n",
    "                zone=\"America/New_York\"))))\n",
    "\n",
    "app = App(params)\n",
    "app.fetch()\n",
    "app.head()\n",
    "app.preprocess()\n",
    "app.train()"
   ]
  }
 ],
 "metadata": {
  "kernelspec": {
   "display_name": "Python 3",
   "language": "python",
   "name": "python3"
  },
  "language_info": {
   "codemirror_mode": {
    "name": "ipython",
    "version": 3
   },
   "file_extension": ".py",
   "mimetype": "text/x-python",
   "name": "python",
   "nbconvert_exporter": "python",
   "pygments_lexer": "ipython3",
   "version": "3.8.5"
  },
  "toc": {
   "base_numbering": 1,
   "nav_menu": {},
   "number_sections": true,
   "sideBar": true,
   "skip_h1_title": false,
   "title_cell": "Table of Contents",
   "title_sidebar": "Contents",
   "toc_cell": false,
   "toc_position": {},
   "toc_section_display": true,
   "toc_window_display": false
  },
  "varInspector": {
   "cols": {
    "lenName": 16,
    "lenType": 16,
    "lenVar": 40
   },
   "kernels_config": {
    "python": {
     "delete_cmd_postfix": "",
     "delete_cmd_prefix": "del ",
     "library": "var_list.py",
     "varRefreshCmd": "print(var_dic_list())"
    },
    "r": {
     "delete_cmd_postfix": ") ",
     "delete_cmd_prefix": "rm(",
     "library": "var_list.r",
     "varRefreshCmd": "cat(var_dic_list()) "
    }
   },
   "types_to_exclude": [
    "module",
    "function",
    "builtin_function_or_method",
    "instance",
    "_Feature"
   ],
   "window_display": false
  }
 },
 "nbformat": 4,
 "nbformat_minor": 4
}

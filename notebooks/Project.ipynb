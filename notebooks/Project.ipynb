{
 "cells": [
  {
   "cell_type": "markdown",
   "metadata": {},
   "source": [
    "# Taxifare"
   ]
  },
  {
   "cell_type": "code",
   "execution_count": 1,
   "metadata": {},
   "outputs": [],
   "source": [
    "%load_ext autoreload\n",
    "%autoreload 2"
   ]
  },
  {
   "cell_type": "code",
   "execution_count": 2,
   "metadata": {},
   "outputs": [
    {
     "name": "stdout",
     "output_type": "stream",
     "text": [
      "\u001b[32mLoading trainer...\u001b[0m\n",
      "\u001b[32m\n",
      "Fetching 1000 lines from s3://wagon-public-datasets/taxi-fare-train.csv data 🚀\u001b[0m\n",
      "\u001b[32mData saved to /Users/gmanchon/code/wagon-red/wagon-data-template/data/data.csv 👍\u001b[0m\n",
      "\u001b[32m\n",
      "Dataset:\n",
      "\u001b[0m     Unnamed: 0                            key  fare_amount  \\\n",
      "0             0    2009-06-15 17:26:21.0000001          4.5   \n",
      "1             1    2010-01-05 16:52:16.0000002         16.9   \n",
      "2             2   2011-08-18 00:35:00.00000049          5.7   \n",
      "3             3    2012-04-21 04:30:42.0000001          7.7   \n",
      "4             4  2010-03-09 07:51:00.000000135          5.3   \n",
      "..          ...                            ...          ...   \n",
      "995         995    2011-07-30 07:33:13.0000001         16.9   \n",
      "996         996  2011-09-24 23:20:00.000000112         13.7   \n",
      "997         997   2011-12-22 11:07:00.00000037         29.3   \n",
      "998         998   2014-11-03 12:40:00.00000014          6.5   \n",
      "999         999    2012-05-18 18:41:30.0000006         10.9   \n",
      "\n",
      "             pickup_datetime  pickup_longitude  pickup_latitude  \\\n",
      "0    2009-06-15 17:26:21 UTC        -73.844311        40.721319   \n",
      "1    2010-01-05 16:52:16 UTC        -74.016048        40.711303   \n",
      "2    2011-08-18 00:35:00 UTC        -73.982738        40.761270   \n",
      "3    2012-04-21 04:30:42 UTC        -73.987130        40.733143   \n",
      "4    2010-03-09 07:51:00 UTC        -73.968095        40.768008   \n",
      "..                       ...               ...              ...   \n",
      "995  2011-07-30 07:33:13 UTC        -73.884801        40.755707   \n",
      "996  2011-09-24 23:20:00 UTC        -73.953603        40.779203   \n",
      "997  2011-12-22 11:07:00 UTC        -73.942380        40.837712   \n",
      "998  2014-11-03 12:40:00 UTC        -73.961151        40.774578   \n",
      "999  2012-05-18 18:41:30 UTC        -73.988455        40.758432   \n",
      "\n",
      "     dropoff_longitude  dropoff_latitude  passenger_count  \n",
      "0           -73.841610         40.712278                1  \n",
      "1           -73.979268         40.782004                1  \n",
      "2           -73.991242         40.750562                2  \n",
      "3           -73.991567         40.758092                1  \n",
      "4           -73.956655         40.783762                1  \n",
      "..                 ...               ...              ...  \n",
      "995         -73.980472         40.765556                1  \n",
      "996         -73.995763         40.726701                3  \n",
      "997         -73.864372         40.769985                2  \n",
      "998         -73.972251         40.785640                1  \n",
      "999         -73.983816         40.730147                1  \n",
      "\n",
      "[1000 rows x 9 columns]\n",
      "\u001b[32m\n",
      "Preprocessing model...\u001b[0m\n",
      "\u001b[32m\n",
      "Pipeline input:\n",
      "\u001b[0m     pickup_latitude  pickup_longitude  dropoff_latitude  dropoff_longitude\n",
      "980        40.761100        -73.990602         40.779580         -73.960025\n",
      "831        40.758655        -73.979882         40.762103         -73.977834\n",
      "544        40.779932        -73.947073         40.765642         -73.967990\n",
      "414        40.767587        -73.966422         40.758270         -73.973363\n",
      "86         40.746485        -73.917399         40.763836         -73.973756\n",
      "..               ...               ...               ...                ...\n",
      "85         40.749482        -73.995387         40.748741         -73.975789\n",
      "127        40.717977        -73.988492         40.737407         -73.978180\n",
      "323        40.759256        -73.965372         40.752373         -73.974870\n",
      "525        40.762810        -73.961757         40.749300         -73.999328\n",
      "122        40.757500        -73.966473         40.745051         -73.993336\n",
      "\n",
      "[753 rows x 4 columns]\n",
      "\u001b[32m\n",
      "Pipeline step \"scaler\", output:\n",
      "\u001b[0m[[ 0.32223869 -0.4627228   0.79667867  0.22142719]\n",
      " [ 0.22968211 -0.16171665  0.20777916 -0.28116469]\n",
      " [ 1.03513254  0.75952502  0.32702819 -0.0033549 ]\n",
      " ...\n",
      " [ 0.25243323  0.24570864 -0.12007987 -0.19751696]\n",
      " [ 0.38697151  0.34721398 -0.22362671 -0.88775179]\n",
      " [ 0.18595906  0.21479374 -0.36679968 -0.71865018]]\n",
      "\u001b[32m\n",
      "Training model...\u001b[0m\n",
      "\u001b[32mModel trained, rmse: 8.721463906926648 👍\u001b[0m\n"
     ]
    },
    {
     "data": {
      "text/plain": [
       "<project.app.App at 0x10d8907c0>"
      ]
     },
     "execution_count": 2,
     "metadata": {},
     "output_type": "execute_result"
    }
   ],
   "source": [
    "from project.app import App\n",
    "\n",
    "n_rows = 1_000\n",
    "\n",
    "app = App()\n",
    "app.fetch(n_rows)\n",
    "app.head(n_rows)\n",
    "app.preprocess(n_rows)\n",
    "app.train(n_rows)"
   ]
  }
 ],
 "metadata": {
  "kernelspec": {
   "display_name": "Python 3",
   "language": "python",
   "name": "python3"
  },
  "language_info": {
   "codemirror_mode": {
    "name": "ipython",
    "version": 3
   },
   "file_extension": ".py",
   "mimetype": "text/x-python",
   "name": "python",
   "nbconvert_exporter": "python",
   "pygments_lexer": "ipython3",
   "version": "3.8.5"
  },
  "toc": {
   "base_numbering": 1,
   "nav_menu": {},
   "number_sections": true,
   "sideBar": true,
   "skip_h1_title": false,
   "title_cell": "Table of Contents",
   "title_sidebar": "Contents",
   "toc_cell": false,
   "toc_position": {},
   "toc_section_display": true,
   "toc_window_display": false
  },
  "varInspector": {
   "cols": {
    "lenName": 16,
    "lenType": 16,
    "lenVar": 40
   },
   "kernels_config": {
    "python": {
     "delete_cmd_postfix": "",
     "delete_cmd_prefix": "del ",
     "library": "var_list.py",
     "varRefreshCmd": "print(var_dic_list())"
    },
    "r": {
     "delete_cmd_postfix": ") ",
     "delete_cmd_prefix": "rm(",
     "library": "var_list.r",
     "varRefreshCmd": "cat(var_dic_list()) "
    }
   },
   "types_to_exclude": [
    "module",
    "function",
    "builtin_function_or_method",
    "instance",
    "_Feature"
   ],
   "window_display": false
  }
 },
 "nbformat": 4,
 "nbformat_minor": 4
}
